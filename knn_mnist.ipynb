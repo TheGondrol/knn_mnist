{
 "cells": [
  {
   "cell_type": "code",
   "execution_count": 1,
   "metadata": {},
   "outputs": [],
   "source": [
    "# Nama  : Andri Ariyanto\n",
    "# Role  : AI Programmer\n",
    "# Email : ariyant.andri@gmail.com"
   ]
  },
  {
   "cell_type": "code",
   "execution_count": 2,
   "metadata": {},
   "outputs": [],
   "source": [
    "DIR = \"./trainingSample\""
   ]
  },
  {
   "cell_type": "code",
   "execution_count": 3,
   "metadata": {},
   "outputs": [],
   "source": [
    "import os\n",
    "\n",
    "def load_train_data():\n",
    "    \n",
    "    filenames = []\n",
    "    labels = []\n",
    "\n",
    "    for path, dirs, files in os.walk(DIR):\n",
    "        for file in files:\n",
    "            if file.endswith('.jpg'):\n",
    "                file = path + '/' + file\n",
    "                filenames.append(file)\n",
    "\n",
    "                label = path[-1]\n",
    "                labels.append(label)\n",
    "\n",
    "    return filenames, labels"
   ]
  },
  {
   "cell_type": "code",
   "execution_count": 4,
   "metadata": {},
   "outputs": [],
   "source": [
    "filenames, labels = load_train_data()"
   ]
  },
  {
   "cell_type": "code",
   "execution_count": 5,
   "metadata": {},
   "outputs": [],
   "source": [
    "import itertools \n",
    "\n",
    "classes = []\n",
    "for (key,group) in itertools.groupby(labels): \n",
    "    classes.append(int(key))"
   ]
  },
  {
   "cell_type": "code",
   "execution_count": 6,
   "metadata": {},
   "outputs": [
    {
     "name": "stderr",
     "output_type": "stream",
     "text": [
      "Using TensorFlow backend.\n"
     ]
    }
   ],
   "source": [
    "import cv2\n",
    "import numpy as np\n",
    "from keras.utils import to_categorical\n",
    "\n",
    "def make_train_data(filenames, labels):\n",
    "\n",
    "    filenames = np.array(filenames)\n",
    "    labels = np.array(labels)\n",
    "\n",
    "    # convert class vectors to binary class matrices\n",
    "    X_list = []\n",
    "    y_list = []\n",
    "    for i in range(len(filenames)):    \n",
    "        img= cv2.imread(filenames[i])\n",
    "        img= cv2.cvtColor(img, cv2.COLOR_BGR2GRAY)\n",
    "        img= cv2.resize(img, (28, 28))\n",
    "        (thresh, img) = cv2.threshold(img, 128, 255, cv2.THRESH_BINARY | cv2.THRESH_OTSU)\n",
    "        X = np.asarray(img)\n",
    "        X = X.reshape(784)\n",
    "        X_list.append(X)\n",
    "#         y  = to_categorical(classes[labels[i]], len(classes))\n",
    "        y = labels[i]\n",
    "        y_list.append(y)\n",
    "        \n",
    "    return np.asarray(X_list), np.asarray(y_list)"
   ]
  },
  {
   "cell_type": "code",
   "execution_count": 7,
   "metadata": {},
   "outputs": [],
   "source": [
    "import matplotlib.pyplot as plt\n",
    "%matplotlib inline\n",
    "\n",
    "def show_image(img_array):\n",
    "    plt.imshow(img_array.reshape(28,28), 'gray')\n",
    "    plt.show()"
   ]
  },
  {
   "cell_type": "code",
   "execution_count": 8,
   "metadata": {
    "scrolled": true
   },
   "outputs": [],
   "source": [
    "X, y = make_train_data(filenames, labels)"
   ]
  },
  {
   "cell_type": "code",
   "execution_count": 9,
   "metadata": {},
   "outputs": [],
   "source": [
    "from sklearn.model_selection import train_test_split\n",
    "\n",
    "X_train, X_test, y_train, y_test = train_test_split(X, y, test_size=0.2, random_state=101)\n"
   ]
  }
 ],
 "metadata": {
  "kernelspec": {
   "display_name": "Python 3",
   "language": "python",
   "name": "python3"
  },
  "language_info": {
   "codemirror_mode": {
    "name": "ipython",
    "version": 3
   },
   "file_extension": ".py",
   "mimetype": "text/x-python",
   "name": "python",
   "nbconvert_exporter": "python",
   "pygments_lexer": "ipython3",
   "version": "3.6.6"
  }
 },
 "nbformat": 4,
 "nbformat_minor": 2
}
